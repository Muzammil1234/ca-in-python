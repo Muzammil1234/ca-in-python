{
 "cells": [
  {
   "cell_type": "code",
   "execution_count": 1,
   "metadata": {},
   "outputs": [],
   "source": [
    "import json\n",
    "\n",
    "import pandas as pd\n",
    "import numpy as np\n",
    "\n",
    "from sklearn.preprocessing import LabelEncoder\n",
    "from sklearn.model_selection import cross_validate\n",
    "from sklearn.metrics import f1_score\n",
    "from sklearn.ensemble import RandomForestClassifier\n",
    "\n",
    "from gensim.models import FastText"
   ]
  },
  {
   "cell_type": "markdown",
   "metadata": {},
   "source": [
    "### Load the data generated using `convert_to_bio.py`\n",
    "\n",
    "**Note:** Following bit of code was modified in the `convert_to_bio.py`\n",
    "\n",
    "original code:\n",
    "```python\n",
    "bio_output += bio_tokens + '\\n__END_ESSAY__\\n'\n",
    "```\n",
    "\n",
    "modified code:\n",
    "```python\n",
    "bio_output += bio_tokens + '\\n__END_ESSAY__\\tO\\n'\n",
    "```"
   ]
  },
  {
   "cell_type": "code",
   "execution_count": 2,
   "metadata": {},
   "outputs": [
    {
     "data": {
      "text/html": [
       "<div>\n",
       "<style scoped>\n",
       "    .dataframe tbody tr th:only-of-type {\n",
       "        vertical-align: middle;\n",
       "    }\n",
       "\n",
       "    .dataframe tbody tr th {\n",
       "        vertical-align: top;\n",
       "    }\n",
       "\n",
       "    .dataframe thead th {\n",
       "        text-align: right;\n",
       "    }\n",
       "</style>\n",
       "<table border=\"1\" class=\"dataframe\">\n",
       "  <thead>\n",
       "    <tr style=\"text-align: right;\">\n",
       "      <th></th>\n",
       "      <th>word</th>\n",
       "      <th>label</th>\n",
       "    </tr>\n",
       "  </thead>\n",
       "  <tbody>\n",
       "    <tr>\n",
       "      <th>0</th>\n",
       "      <td>Way</td>\n",
       "      <td>O</td>\n",
       "    </tr>\n",
       "    <tr>\n",
       "      <th>1</th>\n",
       "      <td>to</td>\n",
       "      <td>O</td>\n",
       "    </tr>\n",
       "    <tr>\n",
       "      <th>2</th>\n",
       "      <td>reduce</td>\n",
       "      <td>O</td>\n",
       "    </tr>\n",
       "    <tr>\n",
       "      <th>3</th>\n",
       "      <td>the</td>\n",
       "      <td>O</td>\n",
       "    </tr>\n",
       "    <tr>\n",
       "      <th>4</th>\n",
       "      <td>amount</td>\n",
       "      <td>O</td>\n",
       "    </tr>\n",
       "  </tbody>\n",
       "</table>\n",
       "</div>"
      ],
      "text/plain": [
       "     word label\n",
       "0     Way     O\n",
       "1      to     O\n",
       "2  reduce     O\n",
       "3     the     O\n",
       "4  amount     O"
      ]
     },
     "execution_count": 2,
     "metadata": {},
     "output_type": "execute_result"
    }
   ],
   "source": [
    "with open(\"data/output.txt\") as f:\n",
    "    d = f.read()\n",
    "\n",
    "# some corruption with direct pandas reading led to this workaround\n",
    "df = pd.DataFrame([x.split('\\t') for x in d.split('\\n')], columns=[\"word\", \"label\"])\n",
    "df = df.iloc[:-1, :]  # remove the extra last row\n",
    "\n",
    "df.word = df.word.str.strip()\n",
    "df.label = df.label.str.strip()\n",
    "df.word.fillna(\"\", inplace=True)\n",
    "df.label.fillna(\"O\", inplace=True)\n",
    "df.head()"
   ]
  },
  {
   "cell_type": "markdown",
   "metadata": {},
   "source": [
    "### Load the train test split"
   ]
  },
  {
   "cell_type": "code",
   "execution_count": 3,
   "metadata": {},
   "outputs": [
    {
     "data": {
      "text/html": [
       "<div>\n",
       "<style scoped>\n",
       "    .dataframe tbody tr th:only-of-type {\n",
       "        vertical-align: middle;\n",
       "    }\n",
       "\n",
       "    .dataframe tbody tr th {\n",
       "        vertical-align: top;\n",
       "    }\n",
       "\n",
       "    .dataframe thead th {\n",
       "        text-align: right;\n",
       "    }\n",
       "</style>\n",
       "<table border=\"1\" class=\"dataframe\">\n",
       "  <thead>\n",
       "    <tr style=\"text-align: right;\">\n",
       "      <th></th>\n",
       "      <th>SET</th>\n",
       "    </tr>\n",
       "    <tr>\n",
       "      <th>ID</th>\n",
       "      <th></th>\n",
       "    </tr>\n",
       "  </thead>\n",
       "  <tbody>\n",
       "    <tr>\n",
       "      <th>essay001</th>\n",
       "      <td>TRAIN</td>\n",
       "    </tr>\n",
       "    <tr>\n",
       "      <th>essay002</th>\n",
       "      <td>TRAIN</td>\n",
       "    </tr>\n",
       "    <tr>\n",
       "      <th>essay003</th>\n",
       "      <td>TRAIN</td>\n",
       "    </tr>\n",
       "    <tr>\n",
       "      <th>essay004</th>\n",
       "      <td>TEST</td>\n",
       "    </tr>\n",
       "    <tr>\n",
       "      <th>essay005</th>\n",
       "      <td>TEST</td>\n",
       "    </tr>\n",
       "  </tbody>\n",
       "</table>\n",
       "</div>"
      ],
      "text/plain": [
       "            SET\n",
       "ID             \n",
       "essay001  TRAIN\n",
       "essay002  TRAIN\n",
       "essay003  TRAIN\n",
       "essay004   TEST\n",
       "essay005   TEST"
      ]
     },
     "execution_count": 3,
     "metadata": {},
     "output_type": "execute_result"
    }
   ],
   "source": [
    "train_test = pd.read_csv(\"data/train-test-split.csv\", sep=\";\", index_col=0)\n",
    "train_test.head()"
   ]
  },
  {
   "cell_type": "markdown",
   "metadata": {},
   "source": [
    "### Load the JSON data"
   ]
  },
  {
   "cell_type": "code",
   "execution_count": 4,
   "metadata": {},
   "outputs": [],
   "source": [
    "with open(\"data/essay_corpus.json\") as f:\n",
    "    data = f.read()\n",
    "    data = json.loads(data)"
   ]
  },
  {
   "cell_type": "code",
   "execution_count": 5,
   "metadata": {},
   "outputs": [],
   "source": [
    "# extract and correct the essay names\n",
    "essay_names = [\"essay\" + str(essay[\"id\"]).zfill(3) for essay in data]\n",
    "exp_len = 8\n",
    "assert all([len(x) == exp_len for x in essay_names])"
   ]
  },
  {
   "cell_type": "markdown",
   "metadata": {},
   "source": [
    "### Assign the essay number to each word in the BIO format"
   ]
  },
  {
   "cell_type": "code",
   "execution_count": 6,
   "metadata": {},
   "outputs": [
    {
     "data": {
      "text/html": [
       "<div>\n",
       "<style scoped>\n",
       "    .dataframe tbody tr th:only-of-type {\n",
       "        vertical-align: middle;\n",
       "    }\n",
       "\n",
       "    .dataframe tbody tr th {\n",
       "        vertical-align: top;\n",
       "    }\n",
       "\n",
       "    .dataframe thead th {\n",
       "        text-align: right;\n",
       "    }\n",
       "</style>\n",
       "<table border=\"1\" class=\"dataframe\">\n",
       "  <thead>\n",
       "    <tr style=\"text-align: right;\">\n",
       "      <th></th>\n",
       "      <th>word</th>\n",
       "      <th>label</th>\n",
       "      <th>essay_number</th>\n",
       "    </tr>\n",
       "  </thead>\n",
       "  <tbody>\n",
       "    <tr>\n",
       "      <th>0</th>\n",
       "      <td>Way</td>\n",
       "      <td>O</td>\n",
       "      <td>essay365</td>\n",
       "    </tr>\n",
       "    <tr>\n",
       "      <th>1</th>\n",
       "      <td>to</td>\n",
       "      <td>O</td>\n",
       "      <td>essay365</td>\n",
       "    </tr>\n",
       "    <tr>\n",
       "      <th>2</th>\n",
       "      <td>reduce</td>\n",
       "      <td>O</td>\n",
       "      <td>essay365</td>\n",
       "    </tr>\n",
       "    <tr>\n",
       "      <th>3</th>\n",
       "      <td>the</td>\n",
       "      <td>O</td>\n",
       "      <td>essay365</td>\n",
       "    </tr>\n",
       "    <tr>\n",
       "      <th>4</th>\n",
       "      <td>amount</td>\n",
       "      <td>O</td>\n",
       "      <td>essay365</td>\n",
       "    </tr>\n",
       "  </tbody>\n",
       "</table>\n",
       "</div>"
      ],
      "text/plain": [
       "     word label essay_number\n",
       "0     Way     O     essay365\n",
       "1      to     O     essay365\n",
       "2  reduce     O     essay365\n",
       "3     the     O     essay365\n",
       "4  amount     O     essay365"
      ]
     },
     "execution_count": 6,
     "metadata": {},
     "output_type": "execute_result"
    }
   ],
   "source": [
    "df.loc[df[df.word == \"__END_ESSAY__\"].index, \"essay_number\"] = essay_names\n",
    "df.essay_number.fillna(method=\"bfill\", inplace=True)\n",
    "df.head()"
   ]
  },
  {
   "cell_type": "markdown",
   "metadata": {},
   "source": [
    "### Assign a train/test flag to each word in the BIO format"
   ]
  },
  {
   "cell_type": "code",
   "execution_count": 7,
   "metadata": {},
   "outputs": [
    {
     "data": {
      "text/html": [
       "<div>\n",
       "<style scoped>\n",
       "    .dataframe tbody tr th:only-of-type {\n",
       "        vertical-align: middle;\n",
       "    }\n",
       "\n",
       "    .dataframe tbody tr th {\n",
       "        vertical-align: top;\n",
       "    }\n",
       "\n",
       "    .dataframe thead th {\n",
       "        text-align: right;\n",
       "    }\n",
       "</style>\n",
       "<table border=\"1\" class=\"dataframe\">\n",
       "  <thead>\n",
       "    <tr style=\"text-align: right;\">\n",
       "      <th></th>\n",
       "      <th>word</th>\n",
       "      <th>label</th>\n",
       "      <th>essay_number</th>\n",
       "      <th>SET</th>\n",
       "    </tr>\n",
       "  </thead>\n",
       "  <tbody>\n",
       "    <tr>\n",
       "      <th>0</th>\n",
       "      <td>Way</td>\n",
       "      <td>O</td>\n",
       "      <td>essay365</td>\n",
       "      <td>TRAIN</td>\n",
       "    </tr>\n",
       "    <tr>\n",
       "      <th>1</th>\n",
       "      <td>to</td>\n",
       "      <td>O</td>\n",
       "      <td>essay365</td>\n",
       "      <td>TRAIN</td>\n",
       "    </tr>\n",
       "    <tr>\n",
       "      <th>2</th>\n",
       "      <td>reduce</td>\n",
       "      <td>O</td>\n",
       "      <td>essay365</td>\n",
       "      <td>TRAIN</td>\n",
       "    </tr>\n",
       "    <tr>\n",
       "      <th>3</th>\n",
       "      <td>the</td>\n",
       "      <td>O</td>\n",
       "      <td>essay365</td>\n",
       "      <td>TRAIN</td>\n",
       "    </tr>\n",
       "    <tr>\n",
       "      <th>4</th>\n",
       "      <td>amount</td>\n",
       "      <td>O</td>\n",
       "      <td>essay365</td>\n",
       "      <td>TRAIN</td>\n",
       "    </tr>\n",
       "  </tbody>\n",
       "</table>\n",
       "</div>"
      ],
      "text/plain": [
       "     word label essay_number    SET\n",
       "0     Way     O     essay365  TRAIN\n",
       "1      to     O     essay365  TRAIN\n",
       "2  reduce     O     essay365  TRAIN\n",
       "3     the     O     essay365  TRAIN\n",
       "4  amount     O     essay365  TRAIN"
      ]
     },
     "execution_count": 7,
     "metadata": {},
     "output_type": "execute_result"
    }
   ],
   "source": [
    "df = df.merge(train_test, how=\"left\", left_on=\"essay_number\", right_index=True)\n",
    "df.reset_index(drop=True, inplace=True)  # reset index for easier train/test split\n",
    "df.head()"
   ]
  },
  {
   "cell_type": "markdown",
   "metadata": {},
   "source": [
    "### Create a column with lowercase words and add the word's count (within the essay) as a column"
   ]
  },
  {
   "cell_type": "code",
   "execution_count": 8,
   "metadata": {},
   "outputs": [
    {
     "data": {
      "text/html": [
       "<div>\n",
       "<style scoped>\n",
       "    .dataframe tbody tr th:only-of-type {\n",
       "        vertical-align: middle;\n",
       "    }\n",
       "\n",
       "    .dataframe tbody tr th {\n",
       "        vertical-align: top;\n",
       "    }\n",
       "\n",
       "    .dataframe thead th {\n",
       "        text-align: right;\n",
       "    }\n",
       "</style>\n",
       "<table border=\"1\" class=\"dataframe\">\n",
       "  <thead>\n",
       "    <tr style=\"text-align: right;\">\n",
       "      <th></th>\n",
       "      <th>word</th>\n",
       "      <th>label</th>\n",
       "      <th>essay_number</th>\n",
       "      <th>SET</th>\n",
       "      <th>word_lower</th>\n",
       "      <th>word_count</th>\n",
       "    </tr>\n",
       "  </thead>\n",
       "  <tbody>\n",
       "    <tr>\n",
       "      <th>0</th>\n",
       "      <td>Way</td>\n",
       "      <td>O</td>\n",
       "      <td>essay365</td>\n",
       "      <td>TRAIN</td>\n",
       "      <td>way</td>\n",
       "      <td>2</td>\n",
       "    </tr>\n",
       "    <tr>\n",
       "      <th>1</th>\n",
       "      <td>to</td>\n",
       "      <td>O</td>\n",
       "      <td>essay365</td>\n",
       "      <td>TRAIN</td>\n",
       "      <td>to</td>\n",
       "      <td>6</td>\n",
       "    </tr>\n",
       "    <tr>\n",
       "      <th>2</th>\n",
       "      <td>reduce</td>\n",
       "      <td>O</td>\n",
       "      <td>essay365</td>\n",
       "      <td>TRAIN</td>\n",
       "      <td>reduce</td>\n",
       "      <td>1</td>\n",
       "    </tr>\n",
       "    <tr>\n",
       "      <th>3</th>\n",
       "      <td>the</td>\n",
       "      <td>O</td>\n",
       "      <td>essay365</td>\n",
       "      <td>TRAIN</td>\n",
       "      <td>the</td>\n",
       "      <td>22</td>\n",
       "    </tr>\n",
       "    <tr>\n",
       "      <th>4</th>\n",
       "      <td>amount</td>\n",
       "      <td>O</td>\n",
       "      <td>essay365</td>\n",
       "      <td>TRAIN</td>\n",
       "      <td>amount</td>\n",
       "      <td>1</td>\n",
       "    </tr>\n",
       "  </tbody>\n",
       "</table>\n",
       "</div>"
      ],
      "text/plain": [
       "     word label essay_number    SET word_lower  word_count\n",
       "0     Way     O     essay365  TRAIN        way           2\n",
       "1      to     O     essay365  TRAIN         to           6\n",
       "2  reduce     O     essay365  TRAIN     reduce           1\n",
       "3     the     O     essay365  TRAIN        the          22\n",
       "4  amount     O     essay365  TRAIN     amount           1"
      ]
     },
     "execution_count": 8,
     "metadata": {},
     "output_type": "execute_result"
    }
   ],
   "source": [
    "df[\"word_lower\"] = df.word.str.lower()\n",
    "\n",
    "dfgrpby = df.groupby(by=[\"essay_number\", \"word_lower\"])\n",
    "word_counts = dfgrpby.agg({\"word_lower\": \"count\"})\n",
    "word_counts = word_counts.rename({\"word_lower\": \"word_count\"}, axis=1)\n",
    "word_counts.reset_index(inplace=True)\n",
    "\n",
    "df = df.merge(word_counts, how=\"left\", on=[\"essay_number\", \"word_lower\"])\n",
    "assert df.word_count.notna().all()\n",
    "df.head()"
   ]
  },
  {
   "cell_type": "markdown",
   "metadata": {},
   "source": [
    "### Create a column of position within an essay for each word"
   ]
  },
  {
   "cell_type": "code",
   "execution_count": 9,
   "metadata": {},
   "outputs": [
    {
     "data": {
      "text/html": [
       "<div>\n",
       "<style scoped>\n",
       "    .dataframe tbody tr th:only-of-type {\n",
       "        vertical-align: middle;\n",
       "    }\n",
       "\n",
       "    .dataframe tbody tr th {\n",
       "        vertical-align: top;\n",
       "    }\n",
       "\n",
       "    .dataframe thead th {\n",
       "        text-align: right;\n",
       "    }\n",
       "</style>\n",
       "<table border=\"1\" class=\"dataframe\">\n",
       "  <thead>\n",
       "    <tr style=\"text-align: right;\">\n",
       "      <th></th>\n",
       "      <th>word</th>\n",
       "      <th>label</th>\n",
       "      <th>essay_number</th>\n",
       "      <th>SET</th>\n",
       "      <th>word_lower</th>\n",
       "      <th>word_count</th>\n",
       "      <th>positions</th>\n",
       "    </tr>\n",
       "  </thead>\n",
       "  <tbody>\n",
       "    <tr>\n",
       "      <th>0</th>\n",
       "      <td>Way</td>\n",
       "      <td>O</td>\n",
       "      <td>essay365</td>\n",
       "      <td>TRAIN</td>\n",
       "      <td>way</td>\n",
       "      <td>2</td>\n",
       "      <td>0</td>\n",
       "    </tr>\n",
       "    <tr>\n",
       "      <th>1</th>\n",
       "      <td>to</td>\n",
       "      <td>O</td>\n",
       "      <td>essay365</td>\n",
       "      <td>TRAIN</td>\n",
       "      <td>to</td>\n",
       "      <td>6</td>\n",
       "      <td>1</td>\n",
       "    </tr>\n",
       "    <tr>\n",
       "      <th>2</th>\n",
       "      <td>reduce</td>\n",
       "      <td>O</td>\n",
       "      <td>essay365</td>\n",
       "      <td>TRAIN</td>\n",
       "      <td>reduce</td>\n",
       "      <td>1</td>\n",
       "      <td>2</td>\n",
       "    </tr>\n",
       "    <tr>\n",
       "      <th>3</th>\n",
       "      <td>the</td>\n",
       "      <td>O</td>\n",
       "      <td>essay365</td>\n",
       "      <td>TRAIN</td>\n",
       "      <td>the</td>\n",
       "      <td>22</td>\n",
       "      <td>3</td>\n",
       "    </tr>\n",
       "    <tr>\n",
       "      <th>4</th>\n",
       "      <td>amount</td>\n",
       "      <td>O</td>\n",
       "      <td>essay365</td>\n",
       "      <td>TRAIN</td>\n",
       "      <td>amount</td>\n",
       "      <td>1</td>\n",
       "      <td>4</td>\n",
       "    </tr>\n",
       "  </tbody>\n",
       "</table>\n",
       "</div>"
      ],
      "text/plain": [
       "     word label essay_number    SET word_lower  word_count  positions\n",
       "0     Way     O     essay365  TRAIN        way           2          0\n",
       "1      to     O     essay365  TRAIN         to           6          1\n",
       "2  reduce     O     essay365  TRAIN     reduce           1          2\n",
       "3     the     O     essay365  TRAIN        the          22          3\n",
       "4  amount     O     essay365  TRAIN     amount           1          4"
      ]
     },
     "execution_count": 9,
     "metadata": {},
     "output_type": "execute_result"
    }
   ],
   "source": [
    "total_counts = df.groupby(\"essay_number\", as_index=False, sort=False).SET.count().values.tolist()\n",
    "positions = [np.arange(x[1]) for x in total_counts]\n",
    "df[\"positions\"] = np.hstack(positions)\n",
    "df.head()"
   ]
  },
  {
   "cell_type": "markdown",
   "metadata": {},
   "source": [
    "### Train word embeddings on the corpora using FastText and add the word vector as a column\n",
    "\n",
    "Originally the plan was to use **BERT embeddings** but due to the restriction of using nltk's tokenizer, it tended to be a little bit trickier to achieve it in the given time.\n",
    "\n",
    "<div class=\"alert alert-warning\">\n",
    "\n",
    "**Note:** Also the embeddings were trained over the entire. This could arguably introduce some \"leakage\" i.e. information from the test set seeping into the training set but I have often seen it in practice.\n",
    "    \n",
    "</div>"
   ]
  },
  {
   "cell_type": "code",
   "execution_count": 10,
   "metadata": {},
   "outputs": [
    {
     "data": {
      "text/html": [
       "<div>\n",
       "<style scoped>\n",
       "    .dataframe tbody tr th:only-of-type {\n",
       "        vertical-align: middle;\n",
       "    }\n",
       "\n",
       "    .dataframe tbody tr th {\n",
       "        vertical-align: top;\n",
       "    }\n",
       "\n",
       "    .dataframe thead th {\n",
       "        text-align: right;\n",
       "    }\n",
       "</style>\n",
       "<table border=\"1\" class=\"dataframe\">\n",
       "  <thead>\n",
       "    <tr style=\"text-align: right;\">\n",
       "      <th></th>\n",
       "      <th>word</th>\n",
       "      <th>label</th>\n",
       "      <th>essay_number</th>\n",
       "      <th>SET</th>\n",
       "      <th>word_lower</th>\n",
       "      <th>word_count</th>\n",
       "      <th>positions</th>\n",
       "      <th>ft_vec</th>\n",
       "    </tr>\n",
       "  </thead>\n",
       "  <tbody>\n",
       "    <tr>\n",
       "      <th>0</th>\n",
       "      <td>Way</td>\n",
       "      <td>O</td>\n",
       "      <td>essay365</td>\n",
       "      <td>TRAIN</td>\n",
       "      <td>way</td>\n",
       "      <td>2</td>\n",
       "      <td>0</td>\n",
       "      <td>[-0.001202546, -0.008073888, 0.0014490829, 0.0...</td>\n",
       "    </tr>\n",
       "    <tr>\n",
       "      <th>1</th>\n",
       "      <td>to</td>\n",
       "      <td>O</td>\n",
       "      <td>essay365</td>\n",
       "      <td>TRAIN</td>\n",
       "      <td>to</td>\n",
       "      <td>6</td>\n",
       "      <td>1</td>\n",
       "      <td>[0.0014644335, 0.0026838281, -0.004891229, -0....</td>\n",
       "    </tr>\n",
       "    <tr>\n",
       "      <th>2</th>\n",
       "      <td>reduce</td>\n",
       "      <td>O</td>\n",
       "      <td>essay365</td>\n",
       "      <td>TRAIN</td>\n",
       "      <td>reduce</td>\n",
       "      <td>1</td>\n",
       "      <td>2</td>\n",
       "      <td>[0.0026979328, -0.0014656027, 0.0022566058, 0....</td>\n",
       "    </tr>\n",
       "    <tr>\n",
       "      <th>3</th>\n",
       "      <td>the</td>\n",
       "      <td>O</td>\n",
       "      <td>essay365</td>\n",
       "      <td>TRAIN</td>\n",
       "      <td>the</td>\n",
       "      <td>22</td>\n",
       "      <td>3</td>\n",
       "      <td>[-0.005500579, 0.0011195417, -0.0015077062, 0....</td>\n",
       "    </tr>\n",
       "    <tr>\n",
       "      <th>4</th>\n",
       "      <td>amount</td>\n",
       "      <td>O</td>\n",
       "      <td>essay365</td>\n",
       "      <td>TRAIN</td>\n",
       "      <td>amount</td>\n",
       "      <td>1</td>\n",
       "      <td>4</td>\n",
       "      <td>[-0.0034768363, -0.0022226984, -0.0023712418, ...</td>\n",
       "    </tr>\n",
       "  </tbody>\n",
       "</table>\n",
       "</div>"
      ],
      "text/plain": [
       "     word label essay_number    SET word_lower  word_count  positions  \\\n",
       "0     Way     O     essay365  TRAIN        way           2          0   \n",
       "1      to     O     essay365  TRAIN         to           6          1   \n",
       "2  reduce     O     essay365  TRAIN     reduce           1          2   \n",
       "3     the     O     essay365  TRAIN        the          22          3   \n",
       "4  amount     O     essay365  TRAIN     amount           1          4   \n",
       "\n",
       "                                              ft_vec  \n",
       "0  [-0.001202546, -0.008073888, 0.0014490829, 0.0...  \n",
       "1  [0.0014644335, 0.0026838281, -0.004891229, -0....  \n",
       "2  [0.0026979328, -0.0014656027, 0.0022566058, 0....  \n",
       "3  [-0.005500579, 0.0011195417, -0.0015077062, 0....  \n",
       "4  [-0.0034768363, -0.0022226984, -0.0023712418, ...  "
      ]
     },
     "execution_count": 10,
     "metadata": {},
     "output_type": "execute_result"
    }
   ],
   "source": [
    "fasttext_train_data = [x[\"text\"].split() for x in data]\n",
    "ft = FastText(fasttext_train_data, size=50, min_count=1, workers=-1)\n",
    "df[\"ft_vec\"] = df.word.apply(ft.wv.get_vector)\n",
    "df.head()"
   ]
  },
  {
   "cell_type": "markdown",
   "metadata": {},
   "source": [
    "### Combine all the features"
   ]
  },
  {
   "cell_type": "code",
   "execution_count": 11,
   "metadata": {},
   "outputs": [],
   "source": [
    "counts = df.word_count.values\n",
    "vectors  = np.stack(df.ft_vec.values)\n",
    "positions = df.positions\n",
    "\n",
    "X = np.c_[counts, vectors, positions]"
   ]
  },
  {
   "cell_type": "markdown",
   "metadata": {},
   "source": [
    "### Encode the labels"
   ]
  },
  {
   "cell_type": "code",
   "execution_count": 12,
   "metadata": {},
   "outputs": [],
   "source": [
    "label_enc = LabelEncoder()\n",
    "y = label_enc.fit_transform(df.label.values)"
   ]
  },
  {
   "cell_type": "markdown",
   "metadata": {},
   "source": [
    "### Split them into train and test"
   ]
  },
  {
   "cell_type": "code",
   "execution_count": 13,
   "metadata": {},
   "outputs": [],
   "source": [
    "train_indices = df[df.SET == \"TRAIN\"].index.tolist()\n",
    "test_indices = df[df.SET == \"TEST\"].index.tolist()\n",
    "X_train = X[train_indices]\n",
    "X_test = X[test_indices]\n",
    "y_train = y[train_indices]\n",
    "y_test = y[test_indices]"
   ]
  },
  {
   "cell_type": "markdown",
   "metadata": {},
   "source": [
    "### Define the classifier and run a 10-fold cross-validation\n",
    "\n",
    "The parameters have already been optimized using trial and error. Same goes for the embedding dimensions (50)."
   ]
  },
  {
   "cell_type": "code",
   "execution_count": 14,
   "metadata": {},
   "outputs": [],
   "source": [
    "rf_clf = RandomForestClassifier(n_estimators=100, min_samples_leaf=10, random_state=42, n_jobs=-1)\n",
    "score_dict = cross_validate(rf_clf, X_train, y_train, cv=10, n_jobs=-1, return_train_score=True, scoring=[\"f1_macro\", \"f1_micro\"])"
   ]
  },
  {
   "cell_type": "code",
   "execution_count": 15,
   "metadata": {},
   "outputs": [
    {
     "name": "stdout",
     "output_type": "stream",
     "text": [
      "\n",
      "F1 Macro scores:\n",
      "F1 macro score mean for the train set 0.3147 with std. dev. 0.0014\n",
      "F1 macro score mean for the validation set 0.2750 with std. dev. 0.0053\n",
      "\n",
      "F1 Micro scores:\n",
      "F1 macro score mean for the train set 0.6765 with std. dev. 0.0009\n",
      "F1 macro score mean for the validation set 0.6459 with std. dev. 0.0064\n"
     ]
    }
   ],
   "source": [
    "print()\n",
    "print(\"F1 Macro scores:\")\n",
    "print(f\"F1 macro score mean for the train set {score_dict['train_f1_macro'].mean():.4f} with std. dev. {score_dict['train_f1_macro'].std():.4f}\")\n",
    "print(f\"F1 macro score mean for the validation set {score_dict['test_f1_macro'].mean():.4f} with std. dev. {score_dict['test_f1_macro'].std():.4f}\")\n",
    "print()\n",
    "print(\"F1 Micro scores:\")\n",
    "print(f\"F1 macro score mean for the train set {score_dict['train_f1_micro'].mean():.4f} with std. dev. {score_dict['train_f1_micro'].std():.4f}\")\n",
    "print(f\"F1 macro score mean for the validation set {score_dict['test_f1_micro'].mean():.4f} with std. dev. {score_dict['test_f1_micro'].std():.4f}\")"
   ]
  },
  {
   "cell_type": "markdown",
   "metadata": {},
   "source": [
    "<div class=\"alert alert-warning\">\n",
    "\n",
    "There is a **some overfitting** (both f1 macro and micro are greater for train sets than test sets) specially on the macro level but the relatively low standard deviation shows that the model generalizes with consistency.\n",
    "    \n",
    "</div>"
   ]
  },
  {
   "cell_type": "markdown",
   "metadata": {},
   "source": [
    "### Retrain the model with the entire training set and generate predictions for the test set"
   ]
  },
  {
   "cell_type": "code",
   "execution_count": 16,
   "metadata": {},
   "outputs": [
    {
     "data": {
      "text/plain": [
       "RandomForestClassifier(min_samples_leaf=10, n_jobs=-1, random_state=42)"
      ]
     },
     "execution_count": 16,
     "metadata": {},
     "output_type": "execute_result"
    }
   ],
   "source": [
    "rf_clf = RandomForestClassifier(n_estimators=100, min_samples_leaf=10, random_state=42, n_jobs=-1)\n",
    "rf_clf.fit(X_train, y_train)"
   ]
  },
  {
   "cell_type": "code",
   "execution_count": 17,
   "metadata": {},
   "outputs": [],
   "source": [
    "y_pred = rf_clf.predict(X_test)\n",
    "y_train_pred = rf_clf.predict(X_train)"
   ]
  },
  {
   "cell_type": "markdown",
   "metadata": {},
   "source": [
    "### Check performance on the final train and test sets"
   ]
  },
  {
   "cell_type": "code",
   "execution_count": 22,
   "metadata": {},
   "outputs": [
    {
     "name": "stdout",
     "output_type": "stream",
     "text": [
      "F1 macro train set: 0.3172\n",
      "F1 micro train set: 0.6771\n"
     ]
    }
   ],
   "source": [
    "print(f\"F1 macro train set: {f1_score(y_train, y_train_pred, average='macro'):.4f}\")\n",
    "print(f\"F1 micro train set: {f1_score(y_train, y_train_pred, average='micro'):.4f}\")"
   ]
  },
  {
   "cell_type": "code",
   "execution_count": 21,
   "metadata": {},
   "outputs": [
    {
     "name": "stdout",
     "output_type": "stream",
     "text": [
      "F1 macro test set: 0.2892\n",
      "F1 micro test set: 0.6598\n"
     ]
    }
   ],
   "source": [
    "print(f\"F1 macro test set: {f1_score(y_test, y_pred, average='macro'):.4f}\")\n",
    "print(f\"F1 micro test set: {f1_score(y_test, y_pred, average='micro'):.4f}\")"
   ]
  },
  {
   "cell_type": "markdown",
   "metadata": {},
   "source": [
    "The final train and test scores follow the trend established in the cross-validation very closely.\n",
    "\n",
    "In the FAQ, the following was mentioned:\n",
    "\n",
    "<blockquote>For reference, the F1-score of our baseline is 0.216 (macro F1-score) and 0.456 (weighted F1-score), so try to achieve as higher as possible than this.</blockquote>\n",
    "\n",
    "The scores of **0.289 (macro F1-score)** and **0.660 (weighted F1-score)** on the test set achieve this!\n",
    "\n",
    "I tried originally to only do it with the embeddings but got a real boost from the `positions` feature."
   ]
  },
  {
   "cell_type": "markdown",
   "metadata": {},
   "source": [
    "### Create a final BIO format file with all predictions (train and test dataset) combined for `evaluation.py`"
   ]
  },
  {
   "cell_type": "code",
   "execution_count": 20,
   "metadata": {},
   "outputs": [],
   "source": [
    "bio_labels = label_enc.inverse_transform(rf_clf.predict(X))\n",
    "df[\"pred_label\"] = bio_labels\n",
    "export = df.loc[:, [\"word\", \"pred_label\"]]\n",
    "export.to_csv(\"data/pred-output.txt\", sep=\"\\t\", index=False, header=None)"
   ]
  },
  {
   "cell_type": "code",
   "execution_count": 23,
   "metadata": {},
   "outputs": [],
   "source": [
    "with open(\"data/output.txt\") as f:\n",
    "    d = f.read()\n",
    "\n",
    "# some corruption with direct pandas reading led to this workaround\n",
    "df_orig = pd.DataFrame([x.split('\\t') for x in d.split('\\n')], columns=[\"word\", \"label\"])\n",
    "df_orig = df.iloc[:-1, :]  # remove the extra last row"
   ]
  },
  {
   "cell_type": "markdown",
   "metadata": {},
   "source": [
    "### Execute `evaluation.py`"
   ]
  },
  {
   "cell_type": "code",
   "execution_count": 31,
   "metadata": {},
   "outputs": [
    {
     "name": "stdout",
     "output_type": "stream",
     "text": [
      "Macro F1-Score:  0.31\n",
      "Weighted F1-Score:  0.597\n"
     ]
    }
   ],
   "source": [
    "!python evaluation.py --gt_bio_path data/output.txt --pred_bio_path data/pred-output.txt"
   ]
  }
 ],
 "metadata": {
  "kernelspec": {
   "display_name": "Python 3",
   "language": "python",
   "name": "python3"
  },
  "language_info": {
   "codemirror_mode": {
    "name": "ipython",
    "version": 3
   },
   "file_extension": ".py",
   "mimetype": "text/x-python",
   "name": "python",
   "nbconvert_exporter": "python",
   "pygments_lexer": "ipython3",
   "version": "3.6.9"
  }
 },
 "nbformat": 4,
 "nbformat_minor": 4
}
